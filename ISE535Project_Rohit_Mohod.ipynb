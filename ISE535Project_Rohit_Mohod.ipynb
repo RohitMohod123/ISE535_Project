{
  "nbformat": 4,
  "nbformat_minor": 5,
  "metadata": {
    "kernelspec": {
      "display_name": "Python 3",
      "language": "python",
      "name": "python3"
    },
    "language_info": {
      "codemirror_mode": {
        "name": "ipython",
        "version": 3
      },
      "file_extension": ".py",
      "mimetype": "text/x-python",
      "name": "python",
      "nbconvert_exporter": "python",
      "pygments_lexer": "ipython3",
      "version": "3.8.8"
    },
    "colab": {
      "name": "ISE535_Rohit_Mohod_New.ipynb",
      "provenance": [],
      "collapsed_sections": [
        "0d07f051",
        "e448c9ba"
      ]
    }
  },
  "cells": [
    {
      "cell_type": "code",
      "metadata": {
        "id": "8c0b0397"
      },
      "source": [
        "# Importing the required packages.\n",
        "import pandas as pd\n",
        "import seaborn as sns\n",
        "import matplotlib.pyplot as plt\n",
        "from sklearn.ensemble import RandomForestClassifier\n",
        "from sklearn.svm import SVC\n",
        "from sklearn.linear_model import SGDClassifier\n",
        "from sklearn.metrics import confusion_matrix, classification_report\n",
        "from sklearn.preprocessing import StandardScaler, LabelEncoder\n",
        "from sklearn.model_selection import train_test_split, GridSearchCV, cross_val_score\n",
        "import warnings\n",
        "%matplotlib inline"
      ],
      "id": "8c0b0397",
      "execution_count": 1,
      "outputs": []
    },
    {
      "cell_type": "code",
      "metadata": {
        "id": "3a7edbe4"
      },
      "source": [
        "# Loading dataset\n",
        "# Combining 2 csv files\n",
        "wine_red = pd.read_csv(r'winequality-red.csv', delimiter = ';')\n",
        "wine_white = pd.read_csv(r'winequality-white.csv', delimiter = ';')\n",
        "wine = pd.concat([wine_red, wine_white.iloc[:1000, :]], axis = 0)\n",
        "wine = wine.sample(frac = 1, random_state=42)\n",
        "wine.reset_index(drop=True, inplace=True)"
      ],
      "id": "3a7edbe4",
      "execution_count": 2,
      "outputs": []
    },
    {
      "cell_type": "code",
      "metadata": {
        "colab": {
          "base_uri": "https://localhost:8080/",
          "height": 206
        },
        "id": "53ae52cd",
        "outputId": "39959e8f-f907-4e6b-cd53-41d53886b71d"
      },
      "source": [
        "# Checking how the data is distributed\n",
        "wine.head()"
      ],
      "id": "53ae52cd",
      "execution_count": 3,
      "outputs": [
        {
          "output_type": "execute_result",
          "data": {
            "text/html": [
              "<div>\n",
              "<style scoped>\n",
              "    .dataframe tbody tr th:only-of-type {\n",
              "        vertical-align: middle;\n",
              "    }\n",
              "\n",
              "    .dataframe tbody tr th {\n",
              "        vertical-align: top;\n",
              "    }\n",
              "\n",
              "    .dataframe thead th {\n",
              "        text-align: right;\n",
              "    }\n",
              "</style>\n",
              "<table border=\"1\" class=\"dataframe\">\n",
              "  <thead>\n",
              "    <tr style=\"text-align: right;\">\n",
              "      <th></th>\n",
              "      <th>fixed acidity</th>\n",
              "      <th>volatile acidity</th>\n",
              "      <th>citric acid</th>\n",
              "      <th>residual sugar</th>\n",
              "      <th>chlorides</th>\n",
              "      <th>free sulfur dioxide</th>\n",
              "      <th>total sulfur dioxide</th>\n",
              "      <th>density</th>\n",
              "      <th>pH</th>\n",
              "      <th>sulphates</th>\n",
              "      <th>alcohol</th>\n",
              "      <th>quality</th>\n",
              "    </tr>\n",
              "  </thead>\n",
              "  <tbody>\n",
              "    <tr>\n",
              "      <th>0</th>\n",
              "      <td>6.8</td>\n",
              "      <td>0.62</td>\n",
              "      <td>0.08</td>\n",
              "      <td>1.9</td>\n",
              "      <td>0.068</td>\n",
              "      <td>28.0</td>\n",
              "      <td>38.0</td>\n",
              "      <td>0.99651</td>\n",
              "      <td>3.42</td>\n",
              "      <td>0.82</td>\n",
              "      <td>9.5</td>\n",
              "      <td>6</td>\n",
              "    </tr>\n",
              "    <tr>\n",
              "      <th>1</th>\n",
              "      <td>7.3</td>\n",
              "      <td>0.58</td>\n",
              "      <td>0.30</td>\n",
              "      <td>2.4</td>\n",
              "      <td>0.074</td>\n",
              "      <td>15.0</td>\n",
              "      <td>55.0</td>\n",
              "      <td>0.99680</td>\n",
              "      <td>3.46</td>\n",
              "      <td>0.59</td>\n",
              "      <td>10.2</td>\n",
              "      <td>5</td>\n",
              "    </tr>\n",
              "    <tr>\n",
              "      <th>2</th>\n",
              "      <td>8.2</td>\n",
              "      <td>1.00</td>\n",
              "      <td>0.09</td>\n",
              "      <td>2.3</td>\n",
              "      <td>0.065</td>\n",
              "      <td>7.0</td>\n",
              "      <td>37.0</td>\n",
              "      <td>0.99685</td>\n",
              "      <td>3.32</td>\n",
              "      <td>0.55</td>\n",
              "      <td>9.0</td>\n",
              "      <td>6</td>\n",
              "    </tr>\n",
              "    <tr>\n",
              "      <th>3</th>\n",
              "      <td>7.2</td>\n",
              "      <td>0.31</td>\n",
              "      <td>0.46</td>\n",
              "      <td>5.0</td>\n",
              "      <td>0.040</td>\n",
              "      <td>3.0</td>\n",
              "      <td>29.0</td>\n",
              "      <td>0.99060</td>\n",
              "      <td>3.04</td>\n",
              "      <td>0.53</td>\n",
              "      <td>12.5</td>\n",
              "      <td>4</td>\n",
              "    </tr>\n",
              "    <tr>\n",
              "      <th>4</th>\n",
              "      <td>5.8</td>\n",
              "      <td>0.61</td>\n",
              "      <td>0.11</td>\n",
              "      <td>1.8</td>\n",
              "      <td>0.066</td>\n",
              "      <td>18.0</td>\n",
              "      <td>28.0</td>\n",
              "      <td>0.99483</td>\n",
              "      <td>3.55</td>\n",
              "      <td>0.66</td>\n",
              "      <td>10.9</td>\n",
              "      <td>6</td>\n",
              "    </tr>\n",
              "  </tbody>\n",
              "</table>\n",
              "</div>"
            ],
            "text/plain": [
              "   fixed acidity  volatile acidity  citric acid  ...  sulphates  alcohol  quality\n",
              "0            6.8              0.62         0.08  ...       0.82      9.5        6\n",
              "1            7.3              0.58         0.30  ...       0.59     10.2        5\n",
              "2            8.2              1.00         0.09  ...       0.55      9.0        6\n",
              "3            7.2              0.31         0.46  ...       0.53     12.5        4\n",
              "4            5.8              0.61         0.11  ...       0.66     10.9        6\n",
              "\n",
              "[5 rows x 12 columns]"
            ]
          },
          "metadata": {},
          "execution_count": 3
        }
      ]
    },
    {
      "cell_type": "markdown",
      "metadata": {
        "id": "5cc979b5"
      },
      "source": [
        "Understanding the wine data columns\n",
        "1. fixed acidity :\n",
        "most acids involved with wine or fixed or nonvolatile (do not evaporate readily)\n",
        "\n",
        "2. volatile acidity :\n",
        "the amount of acetic acid in wine, which at too high of levels can lead to an unpleasant, vinegar taste\n",
        "\n",
        "3. citric acid :\n",
        "found in small quantities, citric acid can add ‘freshness’ and flavor to wines\n",
        "\n",
        "4. residual sugar :\n",
        "the amount of sugar remaining after fermentation stops, it’s rare to find wines with less than 1 gram/liter and wines with greater than 45 grams/liter are considered sweet\n",
        "\n",
        "5. chlorides :\n",
        "the amount of salt in the wine\n",
        "\n",
        "6. free sulfur dioxide :\n",
        "the free form of SO2 exists in equilibrium between molecular SO2 (as a dissolved gas) and bisul-fite ion; it prevents microbial growth and the oxidation of wine\n",
        "\n",
        "7. total sulfur dioxide :\n",
        "amount of free and bound forms of S02; in low concentrations, SO2 is mostly undetectable in wine, but at free SO2 concentrations over 50 ppm, SO2 becomes evident in the nose and taste of wine\n",
        "\n",
        "8. density :\n",
        "the density of water is close to that of water depending on the percent alcohol and sugar con-tent\n",
        "\n",
        "9. pH :\n",
        "describes how acidic or basic a wine is on a scale from 0 (very acidic) to 14 (very basic); most wines are between 3–4 on the pH scale\n",
        "\n",
        "10. sulphates :\n",
        "a wine additive which can contribute to sulfur dioxide gas (S02) levels, which acts as an antimicrobial and antioxidant\n",
        "\n",
        "11. alcohol :\n",
        "the percent alcohol content of the wine\n",
        "\n",
        "12. quality :\n",
        "output variable (based on sensory data, score between 0 and 10)"
      ],
      "id": "5cc979b5"
    },
    {
      "cell_type": "code",
      "metadata": {
        "colab": {
          "base_uri": "https://localhost:8080/"
        },
        "id": "d81cb69c",
        "outputId": "64904057-63c4-4dca-c64a-c44eef0aca8b"
      },
      "source": [
        "# shape of data\n",
        "\n",
        "wine.shape"
      ],
      "id": "d81cb69c",
      "execution_count": 4,
      "outputs": [
        {
          "output_type": "execute_result",
          "data": {
            "text/plain": [
              "(2599, 12)"
            ]
          },
          "metadata": {},
          "execution_count": 4
        }
      ]
    },
    {
      "cell_type": "code",
      "metadata": {
        "colab": {
          "base_uri": "https://localhost:8080/"
        },
        "id": "8d154623",
        "outputId": "0fc457ba-ba1f-49fc-d931-cbc10c25a882"
      },
      "source": [
        "#Information about the data columns\n",
        "wine.info()"
      ],
      "id": "8d154623",
      "execution_count": 5,
      "outputs": [
        {
          "output_type": "stream",
          "name": "stdout",
          "text": [
            "<class 'pandas.core.frame.DataFrame'>\n",
            "RangeIndex: 2599 entries, 0 to 2598\n",
            "Data columns (total 12 columns):\n",
            " #   Column                Non-Null Count  Dtype  \n",
            "---  ------                --------------  -----  \n",
            " 0   fixed acidity         2599 non-null   float64\n",
            " 1   volatile acidity      2599 non-null   float64\n",
            " 2   citric acid           2599 non-null   float64\n",
            " 3   residual sugar        2599 non-null   float64\n",
            " 4   chlorides             2599 non-null   float64\n",
            " 5   free sulfur dioxide   2599 non-null   float64\n",
            " 6   total sulfur dioxide  2599 non-null   float64\n",
            " 7   density               2599 non-null   float64\n",
            " 8   pH                    2599 non-null   float64\n",
            " 9   sulphates             2599 non-null   float64\n",
            " 10  alcohol               2599 non-null   float64\n",
            " 11  quality               2599 non-null   int64  \n",
            "dtypes: float64(11), int64(1)\n",
            "memory usage: 243.8 KB\n"
          ]
        }
      ]
    },
    {
      "cell_type": "code",
      "metadata": {
        "colab": {
          "base_uri": "https://localhost:8080/",
          "height": 300
        },
        "id": "5fdca741",
        "outputId": "117f4734-558a-418c-c86d-038af9de9123"
      },
      "source": [
        "# summary stat\n",
        "\n",
        "wine.describe()"
      ],
      "id": "5fdca741",
      "execution_count": 6,
      "outputs": [
        {
          "output_type": "execute_result",
          "data": {
            "text/html": [
              "<div>\n",
              "<style scoped>\n",
              "    .dataframe tbody tr th:only-of-type {\n",
              "        vertical-align: middle;\n",
              "    }\n",
              "\n",
              "    .dataframe tbody tr th {\n",
              "        vertical-align: top;\n",
              "    }\n",
              "\n",
              "    .dataframe thead th {\n",
              "        text-align: right;\n",
              "    }\n",
              "</style>\n",
              "<table border=\"1\" class=\"dataframe\">\n",
              "  <thead>\n",
              "    <tr style=\"text-align: right;\">\n",
              "      <th></th>\n",
              "      <th>fixed acidity</th>\n",
              "      <th>volatile acidity</th>\n",
              "      <th>citric acid</th>\n",
              "      <th>residual sugar</th>\n",
              "      <th>chlorides</th>\n",
              "      <th>free sulfur dioxide</th>\n",
              "      <th>total sulfur dioxide</th>\n",
              "      <th>density</th>\n",
              "      <th>pH</th>\n",
              "      <th>sulphates</th>\n",
              "      <th>alcohol</th>\n",
              "      <th>quality</th>\n",
              "    </tr>\n",
              "  </thead>\n",
              "  <tbody>\n",
              "    <tr>\n",
              "      <th>count</th>\n",
              "      <td>2599.000000</td>\n",
              "      <td>2599.000000</td>\n",
              "      <td>2599.000000</td>\n",
              "      <td>2599.000000</td>\n",
              "      <td>2599.000000</td>\n",
              "      <td>2599.000000</td>\n",
              "      <td>2599.000000</td>\n",
              "      <td>2599.000000</td>\n",
              "      <td>2599.000000</td>\n",
              "      <td>2599.000000</td>\n",
              "      <td>2599.000000</td>\n",
              "      <td>2599.000000</td>\n",
              "    </tr>\n",
              "    <tr>\n",
              "      <th>mean</th>\n",
              "      <td>7.753751</td>\n",
              "      <td>0.433759</td>\n",
              "      <td>0.296822</td>\n",
              "      <td>4.080569</td>\n",
              "      <td>0.071948</td>\n",
              "      <td>23.662178</td>\n",
              "      <td>84.429396</td>\n",
              "      <td>0.995881</td>\n",
              "      <td>3.272289</td>\n",
              "      <td>0.595533</td>\n",
              "      <td>10.318411</td>\n",
              "      <td>5.724125</td>\n",
              "    </tr>\n",
              "    <tr>\n",
              "      <th>std</th>\n",
              "      <td>1.613568</td>\n",
              "      <td>0.193844</td>\n",
              "      <td>0.176031</td>\n",
              "      <td>3.909254</td>\n",
              "      <td>0.044337</td>\n",
              "      <td>16.562481</td>\n",
              "      <td>61.151983</td>\n",
              "      <td>0.002508</td>\n",
              "      <td>0.160119</td>\n",
              "      <td>0.169329</td>\n",
              "      <td>1.079672</td>\n",
              "      <td>0.864846</td>\n",
              "    </tr>\n",
              "    <tr>\n",
              "      <th>min</th>\n",
              "      <td>4.600000</td>\n",
              "      <td>0.080000</td>\n",
              "      <td>0.000000</td>\n",
              "      <td>0.800000</td>\n",
              "      <td>0.012000</td>\n",
              "      <td>1.000000</td>\n",
              "      <td>6.000000</td>\n",
              "      <td>0.988600</td>\n",
              "      <td>2.740000</td>\n",
              "      <td>0.270000</td>\n",
              "      <td>8.400000</td>\n",
              "      <td>3.000000</td>\n",
              "    </tr>\n",
              "    <tr>\n",
              "      <th>25%</th>\n",
              "      <td>6.700000</td>\n",
              "      <td>0.280000</td>\n",
              "      <td>0.180000</td>\n",
              "      <td>1.900000</td>\n",
              "      <td>0.047000</td>\n",
              "      <td>10.000000</td>\n",
              "      <td>31.000000</td>\n",
              "      <td>0.994200</td>\n",
              "      <td>3.160000</td>\n",
              "      <td>0.490000</td>\n",
              "      <td>9.500000</td>\n",
              "      <td>5.000000</td>\n",
              "    </tr>\n",
              "    <tr>\n",
              "      <th>50%</th>\n",
              "      <td>7.300000</td>\n",
              "      <td>0.400000</td>\n",
              "      <td>0.300000</td>\n",
              "      <td>2.300000</td>\n",
              "      <td>0.068000</td>\n",
              "      <td>20.000000</td>\n",
              "      <td>68.000000</td>\n",
              "      <td>0.996200</td>\n",
              "      <td>3.270000</td>\n",
              "      <td>0.570000</td>\n",
              "      <td>10.000000</td>\n",
              "      <td>6.000000</td>\n",
              "    </tr>\n",
              "    <tr>\n",
              "      <th>75%</th>\n",
              "      <td>8.400000</td>\n",
              "      <td>0.580000</td>\n",
              "      <td>0.410000</td>\n",
              "      <td>4.500000</td>\n",
              "      <td>0.083000</td>\n",
              "      <td>34.000000</td>\n",
              "      <td>132.500000</td>\n",
              "      <td>0.997600</td>\n",
              "      <td>3.380000</td>\n",
              "      <td>0.670000</td>\n",
              "      <td>11.000000</td>\n",
              "      <td>6.000000</td>\n",
              "    </tr>\n",
              "    <tr>\n",
              "      <th>max</th>\n",
              "      <td>15.900000</td>\n",
              "      <td>1.580000</td>\n",
              "      <td>1.660000</td>\n",
              "      <td>22.000000</td>\n",
              "      <td>0.611000</td>\n",
              "      <td>131.000000</td>\n",
              "      <td>313.000000</td>\n",
              "      <td>1.003690</td>\n",
              "      <td>4.010000</td>\n",
              "      <td>2.000000</td>\n",
              "      <td>14.900000</td>\n",
              "      <td>9.000000</td>\n",
              "    </tr>\n",
              "  </tbody>\n",
              "</table>\n",
              "</div>"
            ],
            "text/plain": [
              "       fixed acidity  volatile acidity  ...      alcohol      quality\n",
              "count    2599.000000       2599.000000  ...  2599.000000  2599.000000\n",
              "mean        7.753751          0.433759  ...    10.318411     5.724125\n",
              "std         1.613568          0.193844  ...     1.079672     0.864846\n",
              "min         4.600000          0.080000  ...     8.400000     3.000000\n",
              "25%         6.700000          0.280000  ...     9.500000     5.000000\n",
              "50%         7.300000          0.400000  ...    10.000000     6.000000\n",
              "75%         8.400000          0.580000  ...    11.000000     6.000000\n",
              "max        15.900000          1.580000  ...    14.900000     9.000000\n",
              "\n",
              "[8 rows x 12 columns]"
            ]
          },
          "metadata": {},
          "execution_count": 6
        }
      ]
    },
    {
      "cell_type": "markdown",
      "metadata": {
        "id": "3a36c0c9"
      },
      "source": [
        "the count of each feature is the same which describes the absense of any missing values.\n",
        "\n",
        "there is a larger gap between the 75th percentile and max for features like residual sugar, free sulfur dioxide & total sulfur dioxide\n",
        "\n",
        "on an average the quality of wine is found to be 5.72 and the average alcohol content in wine is 10.31\n",
        "\n",
        "almost negligible variation is found in density"
      ],
      "id": "3a36c0c9"
    },
    {
      "cell_type": "code",
      "metadata": {
        "colab": {
          "base_uri": "https://localhost:8080/"
        },
        "id": "538dbfd5",
        "outputId": "66ef696a-ccaf-4278-9294-a920b83aeb6e"
      },
      "source": [
        "#Again checking for missing values\n",
        "\n",
        "wine.isnull().sum()"
      ],
      "id": "538dbfd5",
      "execution_count": 7,
      "outputs": [
        {
          "output_type": "execute_result",
          "data": {
            "text/plain": [
              "fixed acidity           0\n",
              "volatile acidity        0\n",
              "citric acid             0\n",
              "residual sugar          0\n",
              "chlorides               0\n",
              "free sulfur dioxide     0\n",
              "total sulfur dioxide    0\n",
              "density                 0\n",
              "pH                      0\n",
              "sulphates               0\n",
              "alcohol                 0\n",
              "quality                 0\n",
              "dtype: int64"
            ]
          },
          "metadata": {},
          "execution_count": 7
        }
      ]
    },
    {
      "cell_type": "markdown",
      "metadata": {
        "id": "4197fe5a"
      },
      "source": [
        "we do not observe the presence of missing values in the data"
      ],
      "id": "4197fe5a"
    },
    {
      "cell_type": "code",
      "metadata": {
        "colab": {
          "base_uri": "https://localhost:8080/",
          "height": 335
        },
        "id": "985b79f2",
        "outputId": "4ef67e5c-8f5f-4207-b391-f1346fdf38d3"
      },
      "source": [
        "#plotting count vs quality\n",
        "sns.countplot(wine['quality'])\n",
        "warnings.filterwarnings(\"ignore\")\n",
        "plt.show()"
      ],
      "id": "985b79f2",
      "execution_count": 8,
      "outputs": [
        {
          "output_type": "stream",
          "name": "stderr",
          "text": [
            "/usr/local/lib/python3.7/dist-packages/seaborn/_decorators.py:43: FutureWarning: Pass the following variable as a keyword arg: x. From version 0.12, the only valid positional argument will be `data`, and passing other arguments without an explicit keyword will result in an error or misinterpretation.\n",
            "  FutureWarning\n"
          ]
        },
        {
          "output_type": "display_data",
          "data": {
            "image/png": "[encoded data removed]",
            "text/plain": [
              "<Figure size 432x288 with 1 Axes>"
            ]
          },
          "metadata": {
            "needs_background": "light"
          }
        }
      ]
    },
    {
      "cell_type": "code",
      "metadata": {
        "colab": {
          "base_uri": "https://localhost:8080/"
        },
        "id": "82685599",
        "outputId": "947e77c8-4105-4bdc-c132-d232a9bba134"
      },
      "source": [
        "wine['quality'].value_counts()"
      ],
      "id": "82685599",
      "execution_count": 9,
      "outputs": [
        {
          "output_type": "execute_result",
          "data": {
            "text/plain": [
              "6    1053\n",
              "5     996\n",
              "7     385\n",
              "4      90\n",
              "8      55\n",
              "3      16\n",
              "9       4\n",
              "Name: quality, dtype: int64"
            ]
          },
          "metadata": {},
          "execution_count": 9
        }
      ]
    },
    {
      "cell_type": "code",
      "metadata": {
        "colab": {
          "base_uri": "https://localhost:8080/",
          "height": 734
        },
        "id": "32f405b1",
        "outputId": "4546295a-14b5-48fc-9f33-34ab6da96856"
      },
      "source": [
        "plt.tight_layout()\n",
        "wine.hist(bins = 100, figsize = (10,12))\n",
        "plt.show()"
      ],
      "id": "32f405b1",
      "execution_count": 10,
      "outputs": [
        {
          "output_type": "display_data",
          "data": {
            "text/plain": [
              "<Figure size 432x288 with 0 Axes>"
            ]
          },
          "metadata": {}
        },
        {
          "output_type": "display_data",
          "data": {
            "image/png": "[encoded data removed]",
            "text/plain": [
              "<Figure size 720x864 with 12 Axes>"
            ]
          },
          "metadata": {
            "needs_background": "light"
          }
        }
      ]
    },
    {
      "cell_type": "code",
      "metadata": {
        "colab": {
          "base_uri": "https://localhost:8080/",
          "height": 571
        },
        "id": "31fbce1c",
        "outputId": "58d3204c-9e44-4e38-96e7-6266d90a0af2"
      },
      "source": [
        "plt.figure(figsize = (12,8))\n",
        "sns.heatmap(wine.corr(), annot = True)\n",
        "plt.show()"
      ],
      "id": "31fbce1c",
      "execution_count": 11,
      "outputs": [
        {
          "output_type": "display_data",
          "data": {
            "image/png": "[encoded data removed]",
            "text/plain": [
              "<Figure size 864x576 with 2 Axes>"
            ]
          },
          "metadata": {
            "needs_background": "light"
          }
        }
      ]
    },
    {
      "cell_type": "code",
      "metadata": {
        "colab": {
          "base_uri": "https://localhost:8080/",
          "height": 406
        },
        "id": "8d692005",
        "outputId": "341192cd-89ae-4505-9a84-e59e3793c29f"
      },
      "source": [
        "#Now we check how each attribute changes wrt to quality\n",
        "\n",
        "#lets begin with Fixed Acidity\n",
        "fig = plt.figure(figsize = (10,6))\n",
        "sns.barplot(x = 'quality', y = 'fixed acidity', data = wine)"
      ],
      "id": "8d692005",
      "execution_count": 12,
      "outputs": [
        {
          "output_type": "execute_result",
          "data": {
            "text/plain": [
              "<matplotlib.axes._subplots.AxesSubplot at 0x7fd9f53d6390>"
            ]
          },
          "metadata": {},
          "execution_count": 12
        },
        {
          "output_type": "display_data",
          "data": {
            "image/png": "[encoded data removed]",
            "text/plain": [
              "<Figure size 720x432 with 1 Axes>"
            ]
          },
          "metadata": {
            "needs_background": "light"
          }
        }
      ]
    },
    {
      "cell_type": "code",
      "metadata": {
        "id": "35c7e84f"
      },
      "source": [
        "#Here we see that fixed acidity does not give any specification to classify the quality."
      ],
      "id": "35c7e84f",
      "execution_count": 13,
      "outputs": []
    },
    {
      "cell_type": "code",
      "metadata": {
        "colab": {
          "base_uri": "https://localhost:8080/",
          "height": 406
        },
        "id": "1037a8fc",
        "outputId": "ccf7e559-7c21-411a-c514-4e111c6feedc"
      },
      "source": [
        "#Now lets check Volatile Acidity\n",
        "fig = plt.figure(figsize = (10,6))\n",
        "sns.barplot(x = 'quality', y = 'volatile acidity', data = wine)"
      ],
      "id": "1037a8fc",
      "execution_count": 14,
      "outputs": [
        {
          "output_type": "execute_result",
          "data": {
            "text/plain": [
              "<matplotlib.axes._subplots.AxesSubplot at 0x7fd9ea7e0390>"
            ]
          },
          "metadata": {},
          "execution_count": 14
        },
        {
          "output_type": "display_data",
          "data": {
            "image/png": "[encoded data removed]",
            "text/plain": [
              "<Figure size 720x432 with 1 Axes>"
            ]
          },
          "metadata": {
            "needs_background": "light"
          }
        }
      ]
    },
    {
      "cell_type": "code",
      "metadata": {
        "id": "0c0e1aa8"
      },
      "source": [
        "#Here we see that its quite a decreasing trend in the volatile acidity as we go higher the quality "
      ],
      "id": "0c0e1aa8",
      "execution_count": 15,
      "outputs": []
    },
    {
      "cell_type": "code",
      "metadata": {
        "colab": {
          "base_uri": "https://localhost:8080/",
          "height": 406
        },
        "id": "22c7ffde",
        "outputId": "3d681267-5e88-47ed-dc4f-990eb89d2015"
      },
      "source": [
        "#Citric Acid vs Quality\n",
        "fig = plt.figure(figsize = (10,6))\n",
        "sns.barplot(x = 'quality', y = 'citric acid', data = wine)"
      ],
      "id": "22c7ffde",
      "execution_count": 16,
      "outputs": [
        {
          "output_type": "execute_result",
          "data": {
            "text/plain": [
              "<matplotlib.axes._subplots.AxesSubplot at 0x7fd9ea7c2a90>"
            ]
          },
          "metadata": {},
          "execution_count": 16
        },
        {
          "output_type": "display_data",
          "data": {
            "image/png": "[encoded data removed]",
            "text/plain": [
              "<Figure size 720x432 with 1 Axes>"
            ]
          },
          "metadata": {
            "needs_background": "light"
          }
        }
      ]
    },
    {
      "cell_type": "code",
      "metadata": {
        "id": "85ef3cf3"
      },
      "source": [
        "#Composition of citric acid go higher as we go higher in the quality of the wine"
      ],
      "id": "85ef3cf3",
      "execution_count": 17,
      "outputs": []
    },
    {
      "cell_type": "code",
      "metadata": {
        "colab": {
          "base_uri": "https://localhost:8080/",
          "height": 406
        },
        "id": "42c2e5b0",
        "outputId": "57b3fc6a-3501-491a-9ff4-fc0db2bdd96b"
      },
      "source": [
        "# Residual Sugar vs Quality\n",
        "fig = plt.figure(figsize = (10,6))\n",
        "sns.barplot(x = 'quality', y = 'residual sugar', data = wine)"
      ],
      "id": "42c2e5b0",
      "execution_count": 18,
      "outputs": [
        {
          "output_type": "execute_result",
          "data": {
            "text/plain": [
              "<matplotlib.axes._subplots.AxesSubplot at 0x7fd9f60fa290>"
            ]
          },
          "metadata": {},
          "execution_count": 18
        },
        {
          "output_type": "display_data",
          "data": {
            "image/png": "[encoded data removed]",
            "text/plain": [
              "<Figure size 720x432 with 1 Axes>"
            ]
          },
          "metadata": {
            "needs_background": "light"
          }
        }
      ]
    },
    {
      "cell_type": "code",
      "metadata": {
        "id": "FlouRv7jkS-I"
      },
      "source": [
        "#Here we see that residual sugar does not give any specification to classify the quality."
      ],
      "id": "FlouRv7jkS-I",
      "execution_count": 19,
      "outputs": []
    },
    {
      "cell_type": "code",
      "metadata": {
        "colab": {
          "base_uri": "https://localhost:8080/",
          "height": 406
        },
        "id": "f9935771",
        "outputId": "71201777-21c3-43bb-80c5-d910c658043d"
      },
      "source": [
        "# Chloride vs Quality\n",
        "fig = plt.figure(figsize = (10,6))\n",
        "sns.barplot(x = 'quality', y = 'chlorides', data = wine)"
      ],
      "id": "f9935771",
      "execution_count": 20,
      "outputs": [
        {
          "output_type": "execute_result",
          "data": {
            "text/plain": [
              "<matplotlib.axes._subplots.AxesSubplot at 0x7fd9f58a3250>"
            ]
          },
          "metadata": {},
          "execution_count": 20
        },
        {
          "output_type": "display_data",
          "data": {
            "image/png": "[encoded data removed]",
            "text/plain": [
              "<Figure size 720x432 with 1 Axes>"
            ]
          },
          "metadata": {
            "needs_background": "light"
          }
        }
      ]
    },
    {
      "cell_type": "code",
      "metadata": {
        "id": "5xwT2oqykevw"
      },
      "source": [
        "#Composition of chloride also go down as we go higher in the quality of the wine"
      ],
      "id": "5xwT2oqykevw",
      "execution_count": 21,
      "outputs": []
    },
    {
      "cell_type": "code",
      "metadata": {
        "colab": {
          "base_uri": "https://localhost:8080/",
          "height": 406
        },
        "id": "d604c6c5",
        "outputId": "64900877-8e4e-43cb-bf25-011ad44460a3"
      },
      "source": [
        "# Free Sulphur Chloride vs Quality\n",
        "fig = plt.figure(figsize = (10,6))\n",
        "sns.barplot(x = 'quality', y = 'free sulfur dioxide', data = wine)"
      ],
      "id": "d604c6c5",
      "execution_count": 22,
      "outputs": [
        {
          "output_type": "execute_result",
          "data": {
            "text/plain": [
              "<matplotlib.axes._subplots.AxesSubplot at 0x7fd9f4ad5a50>"
            ]
          },
          "metadata": {},
          "execution_count": 22
        },
        {
          "output_type": "display_data",
          "data": {
            "image/png": "[encoded data removed]",
            "text/plain": [
              "<Figure size 720x432 with 1 Axes>"
            ]
          },
          "metadata": {
            "needs_background": "light"
          }
        }
      ]
    },
    {
      "cell_type": "code",
      "metadata": {
        "id": "Q8VU2jdOkwhy"
      },
      "source": [
        "# Free sulphur chloride kind off increases with quality"
      ],
      "id": "Q8VU2jdOkwhy",
      "execution_count": 23,
      "outputs": []
    },
    {
      "cell_type": "code",
      "metadata": {
        "colab": {
          "base_uri": "https://localhost:8080/",
          "height": 408
        },
        "id": "c770bd21",
        "outputId": "a4f2bdf2-0282-4419-bd2c-9bd6affee8fe"
      },
      "source": [
        "fig = plt.figure(figsize = (10,6))\n",
        "sns.barplot(x = 'quality', y = 'total sulfur dioxide', data = wine)"
      ],
      "id": "c770bd21",
      "execution_count": 24,
      "outputs": [
        {
          "output_type": "execute_result",
          "data": {
            "text/plain": [
              "<matplotlib.axes._subplots.AxesSubplot at 0x7fd9f4b6dd90>"
            ]
          },
          "metadata": {},
          "execution_count": 24
        },
        {
          "output_type": "display_data",
          "data": {
            "image/png": "[encoded data removed]",
            "text/plain": [
              "<Figure size 720x432 with 1 Axes>"
            ]
          },
          "metadata": {
            "needs_background": "light"
          }
        }
      ]
    },
    {
      "cell_type": "code",
      "metadata": {
        "colab": {
          "base_uri": "https://localhost:8080/",
          "height": 406
        },
        "id": "ff9b9296",
        "outputId": "a0208a4f-cb36-463d-9f43-7a1c83485e82"
      },
      "source": [
        "#Sulphates level goes higher with the quality of wine but drops later\n",
        "fig = plt.figure(figsize = (10,6))\n",
        "sns.barplot(x = 'quality', y = 'sulphates', data = wine)"
      ],
      "id": "ff9b9296",
      "execution_count": 25,
      "outputs": [
        {
          "output_type": "execute_result",
          "data": {
            "text/plain": [
              "<matplotlib.axes._subplots.AxesSubplot at 0x7fd9f4b73550>"
            ]
          },
          "metadata": {},
          "execution_count": 25
        },
        {
          "output_type": "display_data",
          "data": {
            "image/png": "[encoded data removed]",
            "text/plain": [
              "<Figure size 720x432 with 1 Axes>"
            ]
          },
          "metadata": {
            "needs_background": "light"
          }
        }
      ]
    },
    {
      "cell_type": "code",
      "metadata": {
        "colab": {
          "base_uri": "https://localhost:8080/",
          "height": 406
        },
        "id": "86877b44",
        "outputId": "b4df0df2-f995-42d2-876c-521e958df366"
      },
      "source": [
        "#Alcohol level also goes higher as the quality of wine increases\n",
        "fig = plt.figure(figsize = (10,6))\n",
        "sns.barplot(x = 'quality', y = 'alcohol', data = wine)"
      ],
      "id": "86877b44",
      "execution_count": 26,
      "outputs": [
        {
          "output_type": "execute_result",
          "data": {
            "text/plain": [
              "<matplotlib.axes._subplots.AxesSubplot at 0x7fd9f4b71f90>"
            ]
          },
          "metadata": {},
          "execution_count": 26
        },
        {
          "output_type": "display_data",
          "data": {
            "image/png": "[encoded data removed]",
            "text/plain": [
              "<Figure size 720x432 with 1 Axes>"
            ]
          },
          "metadata": {
            "needs_background": "light"
          }
        }
      ]
    },
    {
      "cell_type": "code",
      "metadata": {
        "colab": {
          "base_uri": "https://localhost:8080/"
        },
        "id": "cd1b02ba",
        "outputId": "7be21810-c0cc-4e8c-cb71-cf25cc6b40e1"
      },
      "source": [
        "#Making binary classificaion for the response variable.\n",
        "#Dividing wine as good and bad by giving the limit for the quality\n",
        "#0 to 6 are bad quality wines\n",
        "#6 to 9 are good ones\n",
        "bins = (0, 6, 9)\n",
        "group_names = ['bad', 'good']\n",
        "wine['quality'] = pd.cut(wine['quality'], bins = bins, labels = group_names)\n",
        "\n",
        "#Now lets assign a label to our quality variable\n",
        "label_quality = LabelEncoder()\n",
        "\n",
        "#Bad becomes 0 and good becomes 1 \n",
        "wine['quality'] = label_quality.fit_transform(wine['quality'])\n",
        "wine['quality'].value_counts()"
      ],
      "id": "cd1b02ba",
      "execution_count": 27,
      "outputs": [
        {
          "output_type": "execute_result",
          "data": {
            "text/plain": [
              "0    2155\n",
              "1     444\n",
              "Name: quality, dtype: int64"
            ]
          },
          "metadata": {},
          "execution_count": 27
        }
      ]
    },
    {
      "cell_type": "code",
      "metadata": {
        "colab": {
          "base_uri": "https://localhost:8080/",
          "height": 278
        },
        "id": "eeffa532",
        "outputId": "948f5c6e-6f58-463d-ca39-4a0ab10c1616"
      },
      "source": [
        "sns.countplot(wine['quality'])\n",
        "warnings.filterwarnings(\"ignore\")"
      ],
      "id": "eeffa532",
      "execution_count": 28,
      "outputs": [
        {
          "output_type": "display_data",
          "data": {
            "image/png": "[encoded data removed]",
            "text/plain": [
              "<Figure size 432x288 with 1 Axes>"
            ]
          },
          "metadata": {
            "needs_background": "light"
          }
        }
      ]
    },
    {
      "cell_type": "code",
      "metadata": {
        "id": "a81dacd0"
      },
      "source": [
        "#Now seperate the dataset as response variable and feature variabLes\n",
        "X = wine.drop('quality', axis = 1)\n",
        "y = wine['quality']"
      ],
      "id": "a81dacd0",
      "execution_count": 29,
      "outputs": []
    },
    {
      "cell_type": "code",
      "metadata": {
        "id": "86e24cf6"
      },
      "source": [
        "#Train and Test splitting of data \n",
        "X_train, X_test, y_train, y_test = train_test_split(X, y, test_size = 0.2, random_state = 42)"
      ],
      "id": "86e24cf6",
      "execution_count": 30,
      "outputs": []
    },
    {
      "cell_type": "code",
      "metadata": {
        "id": "4dbd8bfa"
      },
      "source": [
        "#Applying Standard scaling to get optimized result\n",
        "sc = StandardScaler()"
      ],
      "id": "4dbd8bfa",
      "execution_count": 31,
      "outputs": []
    },
    {
      "cell_type": "code",
      "metadata": {
        "id": "3db87255"
      },
      "source": [
        "X_train = sc.fit_transform(X_train)\n",
        "X_test = sc.transform(X_test)"
      ],
      "id": "3db87255",
      "execution_count": 32,
      "outputs": []
    },
    {
      "cell_type": "markdown",
      "metadata": {
        "id": "fa5ce889"
      },
      "source": [
        "### Our training and testing data is ready now to perform machine learning algorithm"
      ],
      "id": "fa5ce889"
    },
    {
      "cell_type": "markdown",
      "metadata": {
        "id": "6068ef57"
      },
      "source": [
        "#### Random Forest Classifier"
      ],
      "id": "6068ef57"
    },
    {
      "cell_type": "code",
      "metadata": {
        "id": "bb91f720"
      },
      "source": [
        "rfc = RandomForestClassifier(n_estimators=500)\n",
        "rfc.fit(X_train, y_train)\n",
        "pred_rfc = rfc.predict(X_test)"
      ],
      "id": "bb91f720",
      "execution_count": 33,
      "outputs": []
    },
    {
      "cell_type": "code",
      "metadata": {
        "colab": {
          "base_uri": "https://localhost:8080/"
        },
        "id": "c5f9fe2f",
        "outputId": "af284d25-a833-4ff5-d6a5-0230b2dac926"
      },
      "source": [
        "#Let's see how our model performed\n",
        "print(classification_report(y_test, pred_rfc))"
      ],
      "id": "c5f9fe2f",
      "execution_count": 34,
      "outputs": [
        {
          "output_type": "stream",
          "name": "stdout",
          "text": [
            "              precision    recall  f1-score   support\n",
            "\n",
            "           0       0.91      0.97      0.94       431\n",
            "           1       0.77      0.56      0.65        89\n",
            "\n",
            "    accuracy                           0.90       520\n",
            "   macro avg       0.84      0.76      0.79       520\n",
            "weighted avg       0.89      0.90      0.89       520\n",
            "\n"
          ]
        }
      ]
    },
    {
      "cell_type": "markdown",
      "metadata": {
        "id": "8f17ae26"
      },
      "source": [
        "#### Random forest gives the accuracy of 90%"
      ],
      "id": "8f17ae26"
    },
    {
      "cell_type": "code",
      "metadata": {
        "colab": {
          "base_uri": "https://localhost:8080/"
        },
        "id": "3f4abf19",
        "outputId": "f7422897-8469-4409-f690-ea4977596000"
      },
      "source": [
        "#Confusion matrix for the random forest classification\n",
        "print(confusion_matrix(y_test, pred_rfc))"
      ],
      "id": "3f4abf19",
      "execution_count": 35,
      "outputs": [
        {
          "output_type": "stream",
          "name": "stdout",
          "text": [
            "[[416  15]\n",
            " [ 39  50]]\n"
          ]
        }
      ]
    },
    {
      "cell_type": "markdown",
      "metadata": {
        "id": "64yaD8zeqGYN"
      },
      "source": [
        "####Stochastic Gradient Descent Classifier (SGDC)"
      ],
      "id": "64yaD8zeqGYN"
    },
    {
      "cell_type": "code",
      "metadata": {
        "id": "38bece7d"
      },
      "source": [
        "sgd = SGDClassifier(penalty=None)\n",
        "sgd.fit(X_train, y_train)\n",
        "pred_sgd = sgd.predict(X_test)"
      ],
      "id": "38bece7d",
      "execution_count": 36,
      "outputs": []
    },
    {
      "cell_type": "code",
      "metadata": {
        "colab": {
          "base_uri": "https://localhost:8080/"
        },
        "id": "9bdf7510",
        "outputId": "1dc53f68-4881-41ad-e90f-b0b6539daff7"
      },
      "source": [
        "print(classification_report(y_test, pred_sgd))"
      ],
      "id": "9bdf7510",
      "execution_count": 37,
      "outputs": [
        {
          "output_type": "stream",
          "name": "stdout",
          "text": [
            "              precision    recall  f1-score   support\n",
            "\n",
            "           0       0.87      0.96      0.91       431\n",
            "           1       0.61      0.30      0.41        89\n",
            "\n",
            "    accuracy                           0.85       520\n",
            "   macro avg       0.74      0.63      0.66       520\n",
            "weighted avg       0.83      0.85      0.83       520\n",
            "\n"
          ]
        }
      ]
    },
    {
      "cell_type": "markdown",
      "metadata": {
        "id": "1627a022"
      },
      "source": [
        "#### 85% accuracy using stochastic gradient descent classifier"
      ],
      "id": "1627a022"
    },
    {
      "cell_type": "code",
      "metadata": {
        "colab": {
          "base_uri": "https://localhost:8080/"
        },
        "id": "96f9d198",
        "outputId": "4a2dc891-8fc4-4847-942e-122ab0d0c039"
      },
      "source": [
        "print(confusion_matrix(y_test, pred_sgd))"
      ],
      "id": "96f9d198",
      "execution_count": 38,
      "outputs": [
        {
          "output_type": "stream",
          "name": "stdout",
          "text": [
            "[[414  17]\n",
            " [ 62  27]]\n"
          ]
        }
      ]
    },
    {
      "cell_type": "markdown",
      "metadata": {
        "id": "NKjjC-BbqgS_"
      },
      "source": [
        "#### Support Vector Classifier (SVC)"
      ],
      "id": "NKjjC-BbqgS_"
    },
    {
      "cell_type": "code",
      "metadata": {
        "id": "852685b4"
      },
      "source": [
        "svc = SVC()\n",
        "svc.fit(X_train, y_train)\n",
        "pred_svc = svc.predict(X_test)"
      ],
      "id": "852685b4",
      "execution_count": 39,
      "outputs": []
    },
    {
      "cell_type": "code",
      "metadata": {
        "colab": {
          "base_uri": "https://localhost:8080/"
        },
        "id": "2629eb48",
        "outputId": "62c94f39-29c9-4ee7-84f6-49720f3ed0dd"
      },
      "source": [
        "print(classification_report(y_test, pred_svc))"
      ],
      "id": "2629eb48",
      "execution_count": 40,
      "outputs": [
        {
          "output_type": "stream",
          "name": "stdout",
          "text": [
            "              precision    recall  f1-score   support\n",
            "\n",
            "           0       0.87      0.97      0.92       431\n",
            "           1       0.64      0.30      0.41        89\n",
            "\n",
            "    accuracy                           0.85       520\n",
            "   macro avg       0.76      0.63      0.66       520\n",
            "weighted avg       0.83      0.85      0.83       520\n",
            "\n"
          ]
        }
      ]
    },
    {
      "cell_type": "markdown",
      "metadata": {
        "id": "0d07f051"
      },
      "source": [
        "#### Support vector classifier gets 85%"
      ],
      "id": "0d07f051"
    },
    {
      "cell_type": "markdown",
      "metadata": {
        "id": "9dc15a92"
      },
      "source": [
        "### Let's try to increase our accuracy of models\n",
        "#### Grid Search CV"
      ],
      "id": "9dc15a92"
    },
    {
      "cell_type": "code",
      "metadata": {
        "id": "54cd6120"
      },
      "source": [
        "#Finding best parameters for our SVC model\n",
        "param = {\n",
        "    'C': [0.1,0.8,0.9,1,1.1,1.2,1.3,1.4],\n",
        "    'kernel':['linear', 'rbf'],\n",
        "    'gamma' :[0.1,0.8,0.9,1,1.1,1.2,1.3,1.4]\n",
        "}\n",
        "grid_svc = GridSearchCV(svc, param_grid=param, scoring='accuracy', cv=10, n_jobs = 1)"
      ],
      "id": "54cd6120",
      "execution_count": 41,
      "outputs": []
    },
    {
      "cell_type": "code",
      "metadata": {
        "colab": {
          "base_uri": "https://localhost:8080/"
        },
        "id": "ed929436",
        "outputId": "8eae4ff8-40a0-4899-ee7b-db99b5e8448d"
      },
      "source": [
        "grid_svc.fit(X_train, y_train)"
      ],
      "id": "ed929436",
      "execution_count": 42,
      "outputs": [
        {
          "output_type": "execute_result",
          "data": {
            "text/plain": [
              "GridSearchCV(cv=10, estimator=SVC(), n_jobs=1,\n",
              "             param_grid={'C': [0.1, 0.8, 0.9, 1, 1.1, 1.2, 1.3, 1.4],\n",
              "                         'gamma': [0.1, 0.8, 0.9, 1, 1.1, 1.2, 1.3, 1.4],\n",
              "                         'kernel': ['linear', 'rbf']},\n",
              "             scoring='accuracy')"
            ]
          },
          "metadata": {},
          "execution_count": 42
        }
      ]
    },
    {
      "cell_type": "code",
      "metadata": {
        "colab": {
          "base_uri": "https://localhost:8080/"
        },
        "id": "0659ba5d",
        "outputId": "685b844d-35e0-4b80-c2fa-d0931af77467"
      },
      "source": [
        "#Best parameters for our svc model\n",
        "grid_svc.best_params_"
      ],
      "id": "0659ba5d",
      "execution_count": 43,
      "outputs": [
        {
          "output_type": "execute_result",
          "data": {
            "text/plain": [
              "{'C': 1.2, 'gamma': 1.2, 'kernel': 'rbf'}"
            ]
          },
          "metadata": {},
          "execution_count": 43
        }
      ]
    },
    {
      "cell_type": "code",
      "metadata": {
        "colab": {
          "base_uri": "https://localhost:8080/"
        },
        "id": "c0710c49",
        "outputId": "213dc332-33a5-4d77-f727-d4ca95ea5227"
      },
      "source": [
        "#Let's run our SVC again with the best parameters.\n",
        "svc2 = SVC(C = 1.2, gamma =  0.9, kernel= 'rbf')\n",
        "svc2.fit(X_train, y_train)\n",
        "pred_svc2 = svc2.predict(X_test)\n",
        "print(classification_report(y_test, pred_svc2))"
      ],
      "id": "c0710c49",
      "execution_count": 44,
      "outputs": [
        {
          "output_type": "stream",
          "name": "stdout",
          "text": [
            "              precision    recall  f1-score   support\n",
            "\n",
            "           0       0.90      0.99      0.94       431\n",
            "           1       0.88      0.47      0.61        89\n",
            "\n",
            "    accuracy                           0.90       520\n",
            "   macro avg       0.89      0.73      0.78       520\n",
            "weighted avg       0.90      0.90      0.89       520\n",
            "\n"
          ]
        }
      ]
    },
    {
      "cell_type": "markdown",
      "metadata": {
        "id": "e448c9ba"
      },
      "source": [
        "#### SVC improves from 85% to 90% using Grid Search CV"
      ],
      "id": "e448c9ba"
    },
    {
      "cell_type": "markdown",
      "metadata": {
        "id": "f325628a"
      },
      "source": [
        "### Cross Validation Score for Random Forest and Stochastic Gradient Descent"
      ],
      "id": "f325628a"
    },
    {
      "cell_type": "code",
      "metadata": {
        "colab": {
          "base_uri": "https://localhost:8080/"
        },
        "id": "4a218d22",
        "outputId": "509bde4d-1c95-4f11-b88c-1528ddda2649"
      },
      "source": [
        "#Now lets try to do some evaluation for random forest model using cross validation.\n",
        "rfc_eval = cross_val_score(estimator = rfc, X = X_train, y = y_train, cv = 10)\n",
        "rfc_eval.mean()"
      ],
      "id": "4a218d22",
      "execution_count": 45,
      "outputs": [
        {
          "output_type": "execute_result",
          "data": {
            "text/plain": [
              "0.8922496283909329"
            ]
          },
          "metadata": {},
          "execution_count": 45
        }
      ]
    },
    {
      "cell_type": "markdown",
      "metadata": {
        "id": "03e25ede"
      },
      "source": [
        "### Random forest accuracy slightly increases from 89% to 89.22 % using cross validation score"
      ],
      "id": "03e25ede"
    },
    {
      "cell_type": "markdown",
      "metadata": {
        "id": "WvitTDS27zIs"
      },
      "source": [
        "### THANK YOU"
      ],
      "id": "WvitTDS27zIs"
    }
  ]
}